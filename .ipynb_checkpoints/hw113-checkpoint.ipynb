{
 "cells": [
  {
   "cell_type": "code",
   "execution_count": null,
   "metadata": {},
   "outputs": [],
   "source": [
    "# Hunter Huynh\n",
    "# Helps with ECE 470 HW 1.1.3\n",
    "\n",
    "###############################################################################\n",
    "\n",
    "# The rotation matrix\n",
    "# Input the rotation matrix here:\n",
    "target_row_1 = [0.053, -0.4493, -0.8918]\n",
    "target_row_2 = [0.615, 0.7183, -0.3253]\n",
    "target_row_3 = [0.7867, -0.5313, 0.3144]\n",
    "target_matrix = [target_row_1, target_row_2, target_row_3]\n",
    "\n",
    "###############################################################################\n",
    "import math\n",
    "print(\"Rotation matrix:\", target_matrix)\n",
    "\n",
    "theta = round(math.degrees(math.atan2(math.sqrt(1 - (target_matrix[2][2])**2), target_matrix[2][2])))\n",
    "phi = round(math.degrees(math.atan2(target_matrix[1][2], target_matrix[0][2])))\n",
    "psi = round(math.degrees(math.atan2(target_matrix[2][1], -target_matrix[2][0])))\n",
    "print(\"Euler angles: phi =\", phi, \"theta =\", theta, \"psi =\", psi)\n",
    "\n",
    "print(\"Instructions:\\n1. First, translate the object into the correct position.\")\n",
    "\n",
    "if phi > 180:\n",
    "    s = str(-(360 - phi)) + \" degrees (press < z button \" + str(int((360 - phi) / 5))\n",
    "elif phi < 0:\n",
    "    s = str(phi) + \" degrees (press < z button \" + str(int(-phi / 5))\n",
    "else:\n",
    "    s = str(phi) + \" degrees (press z > button \" + str(int(phi / 5))\n",
    "print(\"2. Rotate about z by\", s, \"times)\")\n",
    "\n",
    "if theta > 180:\n",
    "    s = str(-(360 - theta)) + \" degrees (press < y button \" + str(int((360 - theta) / 5))\n",
    "elif theta < 0:\n",
    "    s = str(theta) + \" degrees (press < y button \" + str(int(-theta / 5))\n",
    "else:\n",
    "    s = str(theta) + \" degrees (press y > button \" + str(int(theta / 5))\n",
    "print(\"3. Rotate about y by\", s, \"times)\")\n",
    "\n",
    "if psi > 180:\n",
    "    s = str(-(360 - psi)) + \" degrees (press < z button \" + str(int((360 - psi) / 5))\n",
    "elif psi < 0:\n",
    "    s = str(psi) + \" degrees (press < z button \" + str(int(-psi / 5))\n",
    "else:\n",
    "    s = str(psi) + \" degrees (press z > button \" + str(int(psi / 5))\n",
    "print(\"4. Rotate about z by\", s, \"times)\")\n"
   ]
  }
 ],
 "metadata": {
  "kernelspec": {
   "display_name": "Python 3",
   "language": "python",
   "name": "python3"
  },
  "language_info": {
   "codemirror_mode": {
    "name": "ipython",
    "version": 3
   },
   "file_extension": ".py",
   "mimetype": "text/x-python",
   "name": "python",
   "nbconvert_exporter": "python",
   "pygments_lexer": "ipython3",
   "version": "3.6.2"
  }
 },
 "nbformat": 4,
 "nbformat_minor": 2
}
